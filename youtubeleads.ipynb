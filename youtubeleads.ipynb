{
 "cells": [
  {
   "cell_type": "code",
   "execution_count": 2,
   "id": "11c9fa0a",
   "metadata": {},
   "outputs": [],
   "source": [
    "import pandas as pd\n",
    "import numpy as np\n",
    "import matplotlib.pyplot as plt"
   ]
  },
  {
   "cell_type": "code",
   "execution_count": 3,
   "id": "c60b469b",
   "metadata": {},
   "outputs": [
    {
     "name": "stdout",
     "output_type": "stream",
     "text": [
      "Index(['Schedule Date', 'Appoinment Date', 'First Name', 'Last Name ',\n",
      "       'Email ', 'Phone ', 'Closer', 'Source', 'Source - RR / FC',\n",
      "       'Qualified?', 'Outcome Documented?', 'Showed?', 'Close / No Close',\n",
      "       'Call Outcome ', 'Lost Reason', 'Deposit Amount', 'Payment Plan',\n",
      "       'Cash Collected ', 'Revenue', 'Product', 'Call Recording Link',\n",
      "       'Notes'],\n",
      "      dtype='object')\n",
      "Index(['Date', 'First Name', 'Last Name', 'Email ', 'Closer', 'Call Outcome ',\n",
      "       'Showed?', 'Lost Reason', 'Deposit Amount', 'Payment Plan',\n",
      "       'Cash Collected ', 'Revenue', 'Product', 'Call Recording Link',\n",
      "       'Notes'],\n",
      "      dtype='object')\n"
     ]
    }
   ],
   "source": [
    "booked_calls = pd.read_csv('data/Booked Calls.csv')\n",
    "call_outcomes = pd.read_csv('data/Call Outcomes.csv')\n",
    "\n",
    "\n",
    "\n",
    "\n",
    "call_outcomes.rename(columns={'Email Address': 'Email '}, inplace=True)\n",
    "\n",
    "\n",
    "print(booked_calls.columns)\n",
    "print(call_outcomes.columns)\n",
    "\n",
    "\n"
   ]
  },
  {
   "cell_type": "code",
   "execution_count": 30,
   "id": "4d380f56",
   "metadata": {},
   "outputs": [
    {
     "name": "stdout",
     "output_type": "stream",
     "text": [
      "300   2025-02-05\n",
      "301   2025-02-05\n",
      "302   2025-02-05\n",
      "303   2025-02-05\n",
      "304   2025-01-05\n",
      "         ...    \n",
      "473   2025-02-08\n",
      "474   2025-03-08\n",
      "475   2025-03-08\n",
      "476   2025-07-08\n",
      "477   2025-08-08\n",
      "Name: Schedule Date, Length: 178, dtype: datetime64[ns]\n",
      "(90, 22)\n"
     ]
    }
   ],
   "source": [
    "# last 3 months\n",
    "\n",
    "# Parse 'Schedule Date' robustly (handles mixed formats like 2/22/2025 and 28/7/2025)\n",
    "\n",
    "\n",
    "recent_booked = booked_calls[300:]\n",
    "print(recent_booked[\"Schedule Date\"])\n",
    "# Filter by source containing 'youtube'\n",
    "matcher = recent_booked[\"Source\"].str.contains(\"youtube\", case=False, na=False)\n",
    "youtube_leads = recent_booked[recent_booked[\"Source\"].str.contains(\"youtube\", case=False, na=False)]\n",
    "\n",
    "print(youtube_leads.shape)\n",
    "\n",
    "\n",
    "\n"
   ]
  },
  {
   "cell_type": "code",
   "execution_count": null,
   "id": "2df4e470",
   "metadata": {},
   "outputs": [],
   "source": []
  }
 ],
 "metadata": {
  "kernelspec": {
   "display_name": ".venv",
   "language": "python",
   "name": "python3"
  },
  "language_info": {
   "codemirror_mode": {
    "name": "ipython",
    "version": 3
   },
   "file_extension": ".py",
   "mimetype": "text/x-python",
   "name": "python",
   "nbconvert_exporter": "python",
   "pygments_lexer": "ipython3",
   "version": "3.11.9"
  }
 },
 "nbformat": 4,
 "nbformat_minor": 5
}
