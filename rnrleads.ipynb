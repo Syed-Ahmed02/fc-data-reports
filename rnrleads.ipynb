{
 "cells": [
  {
   "cell_type": "code",
   "execution_count": 2,
   "id": "0806967f",
   "metadata": {},
   "outputs": [],
   "source": [
    "import pandas as pd\n",
    "import numpy as np\n",
    "import matplotlib.pyplot as plt"
   ]
  },
  {
   "cell_type": "code",
   "execution_count": 29,
   "id": "5457d430",
   "metadata": {},
   "outputs": [
    {
     "name": "stdout",
     "output_type": "stream",
     "text": [
      "Index(['Schedule Date', 'Appoinment Date', 'First Name', 'Last Name ',\n",
      "       'Email ', 'Phone ', 'Closer', 'Source', 'Source - RR / FC',\n",
      "       'Qualified?', 'Outcome Documented?', 'Showed?', 'Close / No Close',\n",
      "       'Call Outcome ', 'Lost Reason', 'Deposit Amount', 'Payment Plan',\n",
      "       'Cash Collected ', 'Revenue', 'Product', 'Call Recording Link',\n",
      "       'Notes'],\n",
      "      dtype='object')\n",
      "Index(['Date', 'First Name', 'Last Name', 'Email ', 'Closer', 'Call Outcome ',\n",
      "       'Showed?', 'Lost Reason', 'Deposit Amount', 'Payment Plan',\n",
      "       'Cash Collected ', 'Revenue', 'Product', 'Call Recording Link',\n",
      "       'Notes'],\n",
      "      dtype='object')\n"
     ]
    }
   ],
   "source": [
    "booked_calls = pd.read_csv('data/Booked Calls.csv')\n",
    "call_outcomes = pd.read_csv('data/Call Outcomes.csv')\n",
    "\n",
    "\n",
    "\n",
    "\n",
    "call_outcomes.rename(columns={'Email Address': 'Email '}, inplace=True)\n",
    "\n",
    "\n",
    "print(booked_calls.columns)\n",
    "print(call_outcomes.columns)\n",
    "\n",
    "\n"
   ]
  },
  {
   "cell_type": "code",
   "execution_count": 51,
   "id": "789c11ab",
   "metadata": {},
   "outputs": [
    {
     "name": "stdout",
     "output_type": "stream",
     "text": [
      "Index(['First Name_x', 'Last Name ', 'Email ', 'Phone ', 'Closer_x', 'Source',\n",
      "       'Source - RR / FC', 'Qualified?', 'Outcome Documented?', 'Showed?_x',\n",
      "       'Close / No Close', 'Call Outcome _x', 'Lost Reason_x',\n",
      "       'Deposit Amount_x', 'Payment Plan_x', 'Cash Collected _x', 'Revenue_x',\n",
      "       'Product_x', 'Call Recording Link_x', 'Notes_x', 'Date', 'Closer_y',\n",
      "       'Call Outcome _y', 'Showed?_y', 'Lost Reason_y', 'Deposit Amount_y',\n",
      "       'Payment Plan_y', 'Cash Collected _y', 'Revenue_y',\n",
      "       'Call Recording Link_y', 'Notes_y'],\n",
      "      dtype='object')\n",
      "€1,000.00€3,500.00€100.00€750.00€1,500.00€750.00€1,500.00€250.00\n",
      "$1,500.00€3,500.00€200.00€1,500.00€1,500.00€1,500.00€1,500.00€3,500.00\n"
     ]
    },
    {
     "name": "stderr",
     "output_type": "stream",
     "text": [
      "C:\\Users\\syeda\\AppData\\Local\\Temp\\ipykernel_9184\\3838624253.py:3: UserWarning: This pattern is interpreted as a regular expression, and has match groups. To actually get the groups, use str.extract.\n",
      "  matcher = booked_calls[\"Source\"].str.contains(r\"(rnr|imran|rr)\", case=False, na=False)\n"
     ]
    }
   ],
   "source": [
    "#get rnr leads from booked calls\n",
    "\n",
    "matcher = booked_calls[\"Source\"].str.contains(r\"(rnr|imran|rr)\", case=False, na=False)\n",
    "rnr_leads = booked_calls.loc[matcher]\n",
    "\n",
    "\n",
    "merged = pd.merge(rnr_leads, call_outcomes, on=\"Email \", how=\"left\")\n",
    "merged.drop(columns=[\"Appoinment Date\",\"Schedule Date\",\"First Name_y\",\"Last Name\",\"Product_y\"], inplace=True)\n",
    "\n",
    "print(merged.columns)\n",
    "\n",
    "\n",
    "won = merged[merged[\"Call Outcome _y\"].str.contains(\"Won\", case=False, na=False)]\n",
    "\n",
    "total_cash_collected = won[\"Cash Collected _y\"].sum()\n",
    "\n",
    "print(total_cash_collected)\n",
    "\n",
    "total_revenue = won[\"Revenue_y\"].sum()\n",
    "print(total_revenue)\n",
    "\n",
    "rnr_leads.to_csv(\"output/rnr_leads.csv\", index=False)\n",
    "merged.to_csv(\"output/rnr_leads_merged.csv\", index=False)\n",
    "won.to_csv(\"output/rnr_leads_won.csv\", index=False)\n",
    "\n",
    "\n",
    "\n",
    "\n",
    "\n",
    "\n",
    "\n"
   ]
  },
  {
   "cell_type": "code",
   "execution_count": 43,
   "id": "95d155ef",
   "metadata": {},
   "outputs": [
    {
     "data": {
      "image/png": "[encoded data removed]",
      "text/plain": [
       "<Figure size 640x480 with 1 Axes>"
      ]
     },
     "metadata": {},
     "output_type": "display_data"
    }
   ],
   "source": [
    "fig, ax = plt.subplots()\n",
    "counts = [len(rnr_leads), len(won)]\n",
    "bars = ax.bar([\"rnr_leads\", \"won\"], counts)\n",
    "ax.bar_label(bars, fmt='%d', padding=3)\n",
    "plt.show()"
   ]
  },
  {
   "cell_type": "code",
   "execution_count": null,
   "id": "75f48d65",
   "metadata": {},
   "outputs": [],
   "source": []
  }
 ],
 "metadata": {
  "kernelspec": {
   "display_name": ".venv",
   "language": "python",
   "name": "python3"
  },
  "language_info": {
   "codemirror_mode": {
    "name": "ipython",
    "version": 3
   },
   "file_extension": ".py",
   "mimetype": "text/x-python",
   "name": "python",
   "nbconvert_exporter": "python",
   "pygments_lexer": "ipython3",
   "version": "3.11.9"
  }
 },
 "nbformat": 4,
 "nbformat_minor": 5
}
