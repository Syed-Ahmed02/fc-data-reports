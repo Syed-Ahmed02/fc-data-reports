{
 "cells": [
  {
   "cell_type": "code",
   "execution_count": 95,
   "id": "587bb37d",
   "metadata": {},
   "outputs": [],
   "source": [
    "import pandas as pd\n",
    "import numpy as np\n",
    "import requests \n",
    "import matplotlib.pyplot as plt"
   ]
  },
  {
   "cell_type": "code",
   "execution_count": 96,
   "id": "e8490530",
   "metadata": {},
   "outputs": [],
   "source": [
    "start_date = \"2025-08-10\"\n",
    "end_date = \"2025-08-14\""
   ]
  },
  {
   "cell_type": "code",
   "execution_count": 97,
   "id": "440c4670",
   "metadata": {},
   "outputs": [],
   "source": [
    "def get_google_analytics_data(start_date,end_date):\n",
    "    url=\"https://n8n.syedd.com/webhook/6e03de77-7003-4900-9a9c-03cfd1f85608\"\n",
    "    body={\n",
    "        \"start_date\":start_date,\n",
    "        \"end_date\":end_date\n",
    "    }\n",
    "    try:\n",
    "        res = requests.post(url,json=body,headers={\"Content-Type\":\"application/json\"})\n",
    "        res.raise_for_status()  \n",
    "        # Check if response is empty\n",
    "        if not res.text.strip():\n",
    "            print(f\"Warning: Empty response from Google Analytics API for dates {start_date} to {end_date}\")\n",
    "            return []\n",
    "        \n",
    "        return res.json()\n",
    "    except requests.exceptions.RequestException as e:\n",
    "        print(f\"Error making request to Google Analytics API: {e}\")\n",
    "        return []\n",
    "    except ValueError as e:\n",
    "        print(f\"Error parsing JSON from Google Analytics API response: {e}\")\n",
    "        print(f\"Response text: {res.text}\")\n",
    "        return []"
   ]
  },
  {
   "cell_type": "code",
   "execution_count": 98,
   "id": "6cd0d494",
   "metadata": {},
   "outputs": [],
   "source": [
    "ga_data = get_google_analytics_data(start_date,end_date)\n",
    "ga_df = pd.DataFrame(ga_data) if ga_data else pd.DataFrame()"
   ]
  },
  {
   "cell_type": "code",
   "execution_count": 99,
   "id": "1728df59",
   "metadata": {},
   "outputs": [
    {
     "name": "stdout",
     "output_type": "stream",
     "text": [
      "            date pagePath sessionSourceMedium deviceCategory       city  \\\n",
      "count        464      464                 464            464        464   \n",
      "unique         5       14                  33              3        195   \n",
      "top     20250809        /  instagram / social         mobile  (not set)   \n",
      "freq         118      226                 104            267         41   \n",
      "\n",
      "               country browser sessionManualAdContent continent  \\\n",
      "count              464     464                    464       464   \n",
      "unique              50       8                     60         6   \n",
      "top     United Kingdom  Chrome              (not set)    Europe   \n",
      "freq                84     259                    132       157   \n",
      "\n",
      "       screenPageViews activeUsers sessions averageSessionDuration bounceRate  \\\n",
      "count              464         464      464                    464        464   \n",
      "unique               7           4        4                    434          5   \n",
      "top                  1           1        1                      0          0   \n",
      "freq               356         418      415                     31        345   \n",
      "\n",
      "       userEngagementDuration engagedSessions totalUsers scrolledUsers  \n",
      "count                     464             464        464           464  \n",
      "unique                     84               3          3             3  \n",
      "top                         0               1          1             1  \n",
      "freq                      176             357        451           323  \n",
      "<class 'pandas.core.frame.DataFrame'>\n",
      "RangeIndex: 464 entries, 0 to 463\n",
      "Data columns (total 18 columns):\n",
      " #   Column                  Non-Null Count  Dtype \n",
      "---  ------                  --------------  ----- \n",
      " 0   date                    464 non-null    object\n",
      " 1   pagePath                464 non-null    object\n",
      " 2   sessionSourceMedium     464 non-null    object\n",
      " 3   deviceCategory          464 non-null    object\n",
      " 4   city                    464 non-null    object\n",
      " 5   country                 464 non-null    object\n",
      " 6   browser                 464 non-null    object\n",
      " 7   sessionManualAdContent  464 non-null    object\n",
      " 8   continent               464 non-null    object\n",
      " 9   screenPageViews         464 non-null    object\n",
      " 10  activeUsers             464 non-null    object\n",
      " 11  sessions                464 non-null    object\n",
      " 12  averageSessionDuration  464 non-null    object\n",
      " 13  bounceRate              464 non-null    object\n",
      " 14  userEngagementDuration  464 non-null    object\n",
      " 15  engagedSessions         464 non-null    object\n",
      " 16  totalUsers              464 non-null    object\n",
      " 17  scrolledUsers           464 non-null    object\n",
      "dtypes: object(18)\n",
      "memory usage: 65.4+ KB\n",
      "None\n"
     ]
    }
   ],
   "source": [
    "print(ga_df.describe())\n",
    "print(ga_df.info())"
   ]
  },
  {
   "cell_type": "code",
   "execution_count": 100,
   "id": "b6b9227f",
   "metadata": {},
   "outputs": [],
   "source": [
    "ga_df[\"screenPageViews\"] = ga_df[\"screenPageViews\"].astype(int)\n",
    "ga_df[\"averageSessionDuration\"] = ga_df[\"averageSessionDuration\"].astype(float)\n",
    "ga_df[\"userEngagementDuration\"] = ga_df[\"userEngagementDuration\"].astype(float)\n",
    "ga_df[\"bounceRate\"] = ga_df[\"bounceRate\"].astype(float)\n",
    "ga_df[\"sessions\"] = ga_df[\"sessions\"].astype(float)\n",
    "ga_df[\"totalUsers\"] = ga_df[\"totalUsers\"].astype(int)\n",
    "ga_df[\"scrolledUsers\"] = ga_df[\"scrolledUsers\"].astype(int)\n",
    "ga_df[\"activeUsers\"] = ga_df[\"activeUsers\"].astype(int)"
   ]
  },
  {
   "cell_type": "code",
   "execution_count": 101,
   "id": "36f9e5b9",
   "metadata": {},
   "outputs": [
    {
     "name": "stdout",
     "output_type": "stream",
     "text": [
      "131   2025-08-09\n",
      "111   2025-08-09\n",
      "112   2025-08-09\n",
      "113   2025-08-09\n",
      "114   2025-08-09\n",
      "         ...    \n",
      "402   2025-08-13\n",
      "401   2025-08-13\n",
      "400   2025-08-13\n",
      "409   2025-08-13\n",
      "463   2025-08-13\n",
      "Name: date, Length: 464, dtype: datetime64[ns]\n",
      "131     Saturday\n",
      "111     Saturday\n",
      "112     Saturday\n",
      "113     Saturday\n",
      "114     Saturday\n",
      "         ...    \n",
      "402    Wednesday\n",
      "401    Wednesday\n",
      "400    Wednesday\n",
      "409    Wednesday\n",
      "463    Wednesday\n",
      "Name: day_of_week, Length: 464, dtype: object\n"
     ]
    }
   ],
   "source": [
    "#convert date to date_time\n",
    "ga_df[\"date\"] = pd.to_datetime(ga_df[\"date\"])\n",
    "ga_df = ga_df.sort_values(by=\"date\")\n",
    "print(ga_df[\"date\"])\n",
    "ga_df[\"day_of_week\"] = ga_df[\"date\"].dt.day_name()\n",
    "print(ga_df[\"day_of_week\"])\n"
   ]
  },
  {
   "cell_type": "code",
   "execution_count": 102,
   "id": "a582613b",
   "metadata": {},
   "outputs": [],
   "source": [
    "#explorining different sources\n",
    "split = ga_df[\"sessionSourceMedium\"].str.split(\"/\")\n",
    "ga_df[['source', 'medium']] = ga_df['sessionSourceMedium'].str.split(' / ', expand=True)\n",
    "\n",
    "ga_df[\"ad_content\"] = ga_df[\"sessionManualAdContent\"]\n",
    "\n",
    "ga_df = ga_df.drop(columns=[\"sessionManualAdContent\",\"sessionSourceMedium\"])\n"
   ]
  },
  {
   "cell_type": "code",
   "execution_count": 103,
   "id": "aa163451",
   "metadata": {},
   "outputs": [
    {
     "name": "stdout",
     "output_type": "stream",
     "text": [
      "                                date  screenPageViews  activeUsers  \\\n",
      "count                            464       464.000000   464.000000   \n",
      "mean   2025-08-10 19:36:12.413793024         1.237069     0.954741   \n",
      "min              2025-08-09 00:00:00         0.000000     0.000000   \n",
      "25%              2025-08-09 00:00:00         1.000000     1.000000   \n",
      "50%              2025-08-11 00:00:00         1.000000     1.000000   \n",
      "75%              2025-08-12 00:00:00         1.000000     1.000000   \n",
      "max              2025-08-13 00:00:00         7.000000     3.000000   \n",
      "std                              NaN         0.807527     0.322147   \n",
      "\n",
      "         sessions  averageSessionDuration  bounceRate  userEngagementDuration  \\\n",
      "count  464.000000              464.000000  464.000000              464.000000   \n",
      "mean     1.116379               89.067971    0.224856               32.778017   \n",
      "min      1.000000                0.000000    0.000000                0.000000   \n",
      "25%      1.000000                2.326647    0.000000                0.000000   \n",
      "50%      1.000000                9.573332    0.000000                4.000000   \n",
      "75%      1.000000               32.288219    0.500000               16.000000   \n",
      "max      4.000000             1653.268378    1.000000             1444.000000   \n",
      "std      0.359131              250.634576    0.398991              120.582121   \n",
      "\n",
      "       totalUsers  scrolledUsers  \n",
      "count  464.000000     464.000000  \n",
      "mean     1.030172       0.730603  \n",
      "min      1.000000       0.000000  \n",
      "25%      1.000000       0.000000  \n",
      "50%      1.000000       1.000000  \n",
      "75%      1.000000       1.000000  \n",
      "max      3.000000       2.000000  \n",
      "std      0.183425       0.481461  \n",
      "<class 'pandas.core.frame.DataFrame'>\n",
      "Index: 464 entries, 131 to 463\n",
      "Data columns (total 20 columns):\n",
      " #   Column                  Non-Null Count  Dtype         \n",
      "---  ------                  --------------  -----         \n",
      " 0   date                    464 non-null    datetime64[ns]\n",
      " 1   pagePath                464 non-null    object        \n",
      " 2   deviceCategory          464 non-null    object        \n",
      " 3   city                    464 non-null    object        \n",
      " 4   country                 464 non-null    object        \n",
      " 5   browser                 464 non-null    object        \n",
      " 6   continent               464 non-null    object        \n",
      " 7   screenPageViews         464 non-null    int64         \n",
      " 8   activeUsers             464 non-null    int64         \n",
      " 9   sessions                464 non-null    float64       \n",
      " 10  averageSessionDuration  464 non-null    float64       \n",
      " 11  bounceRate              464 non-null    float64       \n",
      " 12  userEngagementDuration  464 non-null    float64       \n",
      " 13  engagedSessions         464 non-null    object        \n",
      " 14  totalUsers              464 non-null    int64         \n",
      " 15  scrolledUsers           464 non-null    int64         \n",
      " 16  day_of_week             464 non-null    object        \n",
      " 17  source                  464 non-null    object        \n",
      " 18  medium                  464 non-null    object        \n",
      " 19  ad_content              464 non-null    object        \n",
      "dtypes: datetime64[ns](1), float64(4), int64(4), object(11)\n",
      "memory usage: 76.1+ KB\n",
      "None\n"
     ]
    }
   ],
   "source": [
    "print(ga_df.describe())\n",
    "print(ga_df.info())"
   ]
  },
  {
   "cell_type": "code",
   "execution_count": null,
   "id": "33d1fc08",
   "metadata": {},
   "outputs": [
    {
     "name": "stdout",
     "output_type": "stream",
     "text": [
      "date\n",
      "2025-08-09    156\n",
      "2025-08-10    112\n",
      "2025-08-11    114\n",
      "2025-08-12     95\n",
      "2025-08-13     97\n",
      "Name: screenPageViews, dtype: int64\n"
     ]
    },
    {
     "data": {
      "image/png": "[encoded data removed]",
      "text/plain": [
       "<Figure size 640x480 with 1 Axes>"
      ]
     },
     "metadata": {},
     "output_type": "display_data"
    }
   ],
   "source": [
    "grouped_by_day = ga_df.groupby(\"\")[\"screenPageViews\"].sum()\n",
    "print(grouped_by_day)\n",
    "plt.plot(grouped_by_day)\n",
    "plt.show()"
   ]
  },
  {
   "cell_type": "code",
   "execution_count": null,
   "id": "39adc5f3",
   "metadata": {},
   "outputs": [],
   "source": []
  }
 ],
 "metadata": {
  "kernelspec": {
   "display_name": ".venv",
   "language": "python",
   "name": "python3"
  },
  "language_info": {
   "codemirror_mode": {
    "name": "ipython",
    "version": 3
   },
   "file_extension": ".py",
   "mimetype": "text/x-python",
   "name": "python",
   "nbconvert_exporter": "python",
   "pygments_lexer": "ipython3",
   "version": "3.11.9"
  }
 },
 "nbformat": 4,
 "nbformat_minor": 5
}
